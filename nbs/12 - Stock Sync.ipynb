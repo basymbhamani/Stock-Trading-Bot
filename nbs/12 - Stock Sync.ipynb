{
 "cells": [
  {
   "cell_type": "code",
   "execution_count": 1,
   "id": "fc15f41b-f7ea-4954-9d55-d801029cde0a",
   "metadata": {},
   "outputs": [],
   "source": [
    "import setup\n",
    "setup.init_django()"
   ]
  },
  {
   "cell_type": "code",
   "execution_count": 2,
   "id": "923100d7-1ab9-4018-b55c-1c314a55c84b",
   "metadata": {},
   "outputs": [],
   "source": [
    "from market.models import *"
   ]
  },
  {
   "cell_type": "code",
   "execution_count": 3,
   "id": "c5507c7f-15cb-437e-8023-664be481ddeb",
   "metadata": {},
   "outputs": [
    {
     "data": {
      "text/plain": [
       "3"
      ]
     },
     "execution_count": 3,
     "metadata": {},
     "output_type": "execute_result"
    }
   ],
   "source": [
    "qs = Company.objects.filter(active=True)\n",
    "qs.count()"
   ]
  },
  {
   "cell_type": "code",
   "execution_count": 5,
   "id": "62cf3a38-f8f6-4c33-95ed-fbe56eda3310",
   "metadata": {},
   "outputs": [],
   "source": [
    "obj, created = Company.objects.get_or_create(name='Meta', ticker='META')\n",
    "obj.save()"
   ]
  },
  {
   "cell_type": "code",
   "execution_count": 6,
   "id": "2ed807ee-c0b7-4531-a788-3baf06052899",
   "metadata": {},
   "outputs": [
    {
     "data": {
      "text/plain": [
       "3702"
      ]
     },
     "execution_count": 6,
     "metadata": {},
     "output_type": "execute_result"
    }
   ],
   "source": [
    "stocks = StockQuote.objects.all()\n",
    "stocks.count()"
   ]
  },
  {
   "cell_type": "code",
   "execution_count": 7,
   "id": "30c5d7eb-b54a-40e8-b05a-19f76400a280",
   "metadata": {},
   "outputs": [],
   "source": [
    "start_from_scratch = False\n",
    "if start_from_scratch:\n",
    "    stocks.delete()"
   ]
  },
  {
   "cell_type": "code",
   "execution_count": 8,
   "id": "d1bddd1a-250d-4b24-be0d-fbcbf15547be",
   "metadata": {},
   "outputs": [],
   "source": [
    "from market import tasks as market_tasks"
   ]
  },
  {
   "cell_type": "code",
   "execution_count": 9,
   "id": "e5cabcfc-0dc2-4f9f-bebc-b0a1091158b6",
   "metadata": {},
   "outputs": [],
   "source": [
    "market_tasks.sync_stock_data()"
   ]
  },
  {
   "cell_type": "code",
   "execution_count": 10,
   "id": "5abd2e48-7d1c-4737-9eae-f6e92d092e4e",
   "metadata": {},
   "outputs": [
    {
     "data": {
      "text/plain": [
       "3702"
      ]
     },
     "execution_count": 10,
     "metadata": {},
     "output_type": "execute_result"
    }
   ],
   "source": [
    "StockQuote.objects.all().count()"
   ]
  },
  {
   "cell_type": "code",
   "execution_count": null,
   "id": "ddcc4b55-5bb0-47fa-b0d6-1819eef10e4d",
   "metadata": {},
   "outputs": [],
   "source": []
  }
 ],
 "metadata": {
  "kernelspec": {
   "display_name": "Python 3 (ipykernel)",
   "language": "python",
   "name": "python3"
  },
  "language_info": {
   "codemirror_mode": {
    "name": "ipython",
    "version": 3
   },
   "file_extension": ".py",
   "mimetype": "text/x-python",
   "name": "python",
   "nbconvert_exporter": "python",
   "pygments_lexer": "ipython3",
   "version": "3.12.2"
  }
 },
 "nbformat": 4,
 "nbformat_minor": 5
}
