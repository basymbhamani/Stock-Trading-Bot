{
 "cells": [
  {
   "cell_type": "code",
   "execution_count": 7,
   "id": "f07bf1c3-a5cc-462f-81b1-d853207e79b2",
   "metadata": {},
   "outputs": [],
   "source": [
    "from decouple import config"
   ]
  },
  {
   "cell_type": "code",
   "execution_count": 9,
   "id": "257e7899-261b-4af3-b990-af2bee8964e3",
   "metadata": {},
   "outputs": [
    {
     "data": {
      "text/plain": [
       "'PPYPDJ4EP8JUH54E'"
      ]
     },
     "execution_count": 9,
     "metadata": {},
     "output_type": "execute_result"
    }
   ],
   "source": [
    "assert config(\"ALPHA_VANTAGE_API_KEY\", default=None, cast=str) is not None"
   ]
  },
  {
   "cell_type": "code",
   "execution_count": 11,
   "id": "46c77de3",
   "metadata": {},
   "outputs": [
    {
     "data": {
      "text/plain": [
       "'VRHfE0D2My5LjGa8YJMKkdAWmVGGbipM'"
      ]
     },
     "execution_count": 11,
     "metadata": {},
     "output_type": "execute_result"
    }
   ],
   "source": [
    "assert config(\"POLYGON_API_KEY\", default=None, cast=str) is not None"
   ]
  },
  {
   "cell_type": "code",
   "execution_count": null,
   "id": "5563812b-f34b-4e1c-827e-81779b44a851",
   "metadata": {},
   "outputs": [],
   "source": []
  },
  {
   "cell_type": "code",
   "execution_count": null,
   "id": "d3fda3dd-04ec-401f-ad46-a555b0b74414",
   "metadata": {},
   "outputs": [],
   "source": []
  }
 ],
 "metadata": {
  "kernelspec": {
   "display_name": "Python 3 (ipykernel)",
   "language": "python",
   "name": "python3"
  },
  "language_info": {
   "codemirror_mode": {
    "name": "ipython",
    "version": 3
   },
   "file_extension": ".py",
   "mimetype": "text/x-python",
   "name": "python",
   "nbconvert_exporter": "python",
   "pygments_lexer": "ipython3",
   "version": "3.12.2"
  }
 },
 "nbformat": 4,
 "nbformat_minor": 5
}
